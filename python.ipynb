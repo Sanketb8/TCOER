{
 "cells": [
  {
   "cell_type": "code",
   "execution_count": 9,
   "id": "f3a541f6-f91f-43ba-b328-10760361bd7c",
   "metadata": {},
   "outputs": [],
   "source": [
    "y = 3 #global variable\n",
    "def hello():\n",
    "    y=10 #local variable\n",
    "    print(y)"
   ]
  },
  {
   "cell_type": "code",
   "execution_count": 10,
   "id": "2a087b22-a9e8-4ad3-91f1-804ca8233822",
   "metadata": {},
   "outputs": [
    {
     "name": "stdout",
     "output_type": "stream",
     "text": [
      "10\n"
     ]
    }
   ],
   "source": [
    "hello()"
   ]
  },
  {
   "cell_type": "markdown",
   "id": "8e596d01-6459-4422-9dc4-a4cc7240e25c",
   "metadata": {},
   "source": [
    "# code Unnati"
   ]
  },
  {
   "cell_type": "markdown",
   "id": "9ddee8fd-64d0-4e14-b942-ff462ccc0cf7",
   "metadata": {},
   "source": [
    "# SAP "
   ]
  },
  {
   "cell_type": "code",
   "execution_count": 12,
   "id": "8e8ab4e3-dca2-46ba-b3c8-90527bd99c05",
   "metadata": {},
   "outputs": [
    {
     "data": {
      "text/plain": [
       "int"
      ]
     },
     "execution_count": 12,
     "metadata": {},
     "output_type": "execute_result"
    }
   ],
   "source": [
    "type(y)"
   ]
  },
  {
   "cell_type": "code",
   "execution_count": 13,
   "id": "e89192a1-43f0-4908-9c3a-cbd2e0abe27d",
   "metadata": {},
   "outputs": [
    {
     "data": {
      "text/plain": [
       "6"
      ]
     },
     "execution_count": 13,
     "metadata": {},
     "output_type": "execute_result"
    }
   ],
   "source": [
    "x + 3"
   ]
  },
  {
   "cell_type": "code",
   "execution_count": 14,
   "id": "8142a499-1f9f-4507-9c0e-98723c8700c7",
   "metadata": {},
   "outputs": [
    {
     "data": {
      "text/plain": [
       "0"
      ]
     },
     "execution_count": 14,
     "metadata": {},
     "output_type": "execute_result"
    }
   ],
   "source": [
    "y - 3"
   ]
  },
  {
   "cell_type": "code",
   "execution_count": 29,
   "id": "b20d851c-faae-464c-b65e-b53ff5cbf977",
   "metadata": {},
   "outputs": [],
   "source": [
    "x += 10"
   ]
  },
  {
   "cell_type": "code",
   "execution_count": 31,
   "id": "90710c23-3faf-4873-befd-de46e42f1421",
   "metadata": {},
   "outputs": [
    {
     "data": {
      "text/plain": [
       "93"
      ]
     },
     "execution_count": 31,
     "metadata": {},
     "output_type": "execute_result"
    }
   ],
   "source": [
    "x"
   ]
  },
  {
   "cell_type": "code",
   "execution_count": 32,
   "id": "3ae378c6-f26e-45bd-9a20-4dbfdfeb8475",
   "metadata": {},
   "outputs": [],
   "source": [
    "z = 3"
   ]
  },
  {
   "cell_type": "code",
   "execution_count": 33,
   "id": "93281400-526a-40b8-ade8-e0ef6ae850da",
   "metadata": {},
   "outputs": [],
   "source": [
    "z += 10\n"
   ]
  },
  {
   "cell_type": "code",
   "execution_count": 34,
   "id": "96ad91ed-24eb-4c79-9746-f291c57df052",
   "metadata": {},
   "outputs": [
    {
     "data": {
      "text/plain": [
       "13"
      ]
     },
     "execution_count": 34,
     "metadata": {},
     "output_type": "execute_result"
    }
   ],
   "source": [
    "z"
   ]
  },
  {
   "cell_type": "code",
   "execution_count": 35,
   "id": "4139c235-a2b0-4e59-a1ea-d8d27811c5ac",
   "metadata": {},
   "outputs": [
    {
     "data": {
      "text/plain": [
       "53"
      ]
     },
     "execution_count": 35,
     "metadata": {},
     "output_type": "execute_result"
    }
   ],
   "source": [
    "y"
   ]
  },
  {
   "cell_type": "code",
   "execution_count": 36,
   "id": "720352bc-1ebf-4cf5-8be8-b0c7e588e255",
   "metadata": {},
   "outputs": [
    {
     "data": {
      "text/plain": [
       "False"
      ]
     },
     "execution_count": 36,
     "metadata": {},
     "output_type": "execute_result"
    }
   ],
   "source": [
    "x == y"
   ]
  },
  {
   "cell_type": "code",
   "execution_count": 37,
   "id": "8a440ca7-2472-43e8-8561-f3c9cbb07104",
   "metadata": {},
   "outputs": [
    {
     "data": {
      "text/plain": [
       "True"
      ]
     },
     "execution_count": 37,
     "metadata": {},
     "output_type": "execute_result"
    }
   ],
   "source": [
    "x != y"
   ]
  },
  {
   "cell_type": "code",
   "execution_count": 62,
   "id": "e345995a-3d3c-4458-9347-fc048a5c53f2",
   "metadata": {},
   "outputs": [],
   "source": [
    "name = \"               MAYUR POTE                 \""
   ]
  },
  {
   "cell_type": "code",
   "execution_count": 42,
   "id": "bd0ba565-7421-4108-8e3d-c1c3b764d823",
   "metadata": {},
   "outputs": [
    {
     "data": {
      "text/plain": [
       "'               MAYUR                 '"
      ]
     },
     "execution_count": 42,
     "metadata": {},
     "output_type": "execute_result"
    }
   ],
   "source": [
    "name"
   ]
  },
  {
   "cell_type": "code",
   "execution_count": 40,
   "id": "e1272700-0768-4310-abcf-b553ba6190d8",
   "metadata": {},
   "outputs": [
    {
     "data": {
      "text/plain": [
       "str"
      ]
     },
     "execution_count": 40,
     "metadata": {},
     "output_type": "execute_result"
    }
   ],
   "source": [
    "type(name)"
   ]
  },
  {
   "cell_type": "code",
   "execution_count": 46,
   "id": "4374303c-8a41-465b-85ba-6443dbb404c7",
   "metadata": {},
   "outputs": [
    {
     "data": {
      "text/plain": [
       "'               mayur                 '"
      ]
     },
     "execution_count": 46,
     "metadata": {},
     "output_type": "execute_result"
    }
   ],
   "source": [
    "name.lower()"
   ]
  },
  {
   "cell_type": "code",
   "execution_count": 49,
   "id": "567059f2-e021-4ed9-bba4-ae4be0dcad2f",
   "metadata": {},
   "outputs": [
    {
     "data": {
      "text/plain": [
       "'               MAYUR                 '"
      ]
     },
     "execution_count": 49,
     "metadata": {},
     "output_type": "execute_result"
    }
   ],
   "source": [
    "name.upper()"
   ]
  },
  {
   "cell_type": "code",
   "execution_count": 54,
   "id": "cae7f28b-9998-4adc-a64d-960d4b904bae",
   "metadata": {},
   "outputs": [
    {
     "data": {
      "text/plain": [
       "'MAYUR                 '"
      ]
     },
     "execution_count": 54,
     "metadata": {},
     "output_type": "execute_result"
    }
   ],
   "source": [
    "name.lstrip()"
   ]
  },
  {
   "cell_type": "code",
   "execution_count": 55,
   "id": "8340ff74-c759-462b-9172-d3956861cdd3",
   "metadata": {},
   "outputs": [
    {
     "data": {
      "text/plain": [
       "'               MAYUR'"
      ]
     },
     "execution_count": 55,
     "metadata": {},
     "output_type": "execute_result"
    }
   ],
   "source": [
    "name.rstrip()"
   ]
  },
  {
   "cell_type": "code",
   "execution_count": 56,
   "id": "1aa8f6ec-f690-4f71-9c83-b863a98e77b8",
   "metadata": {},
   "outputs": [
    {
     "data": {
      "text/plain": [
       "'MAYUR'"
      ]
     },
     "execution_count": 56,
     "metadata": {},
     "output_type": "execute_result"
    }
   ],
   "source": [
    "name.strip()"
   ]
  },
  {
   "cell_type": "code",
   "execution_count": 64,
   "id": "5376be99-fb1a-4d73-8738-225b201d383e",
   "metadata": {},
   "outputs": [],
   "source": [
    "naya_name = name.strip()"
   ]
  },
  {
   "cell_type": "code",
   "execution_count": 65,
   "id": "1f51029b-56aa-4a3c-9582-44527a7fd4ab",
   "metadata": {},
   "outputs": [
    {
     "data": {
      "text/plain": [
       "'MAYUR POTE'"
      ]
     },
     "execution_count": 65,
     "metadata": {},
     "output_type": "execute_result"
    }
   ],
   "source": [
    "naya_name"
   ]
  },
  {
   "cell_type": "code",
   "execution_count": 66,
   "id": "a34db254-f395-42c5-8582-e0d955c060c9",
   "metadata": {},
   "outputs": [
    {
     "data": {
      "text/plain": [
       "['MAYUR', 'POTE']"
      ]
     },
     "execution_count": 66,
     "metadata": {},
     "output_type": "execute_result"
    }
   ],
   "source": [
    "naya_name.split()"
   ]
  },
  {
   "cell_type": "code",
   "execution_count": 67,
   "id": "23470f0b-a4da-4a27-bcf8-683aae60e8a7",
   "metadata": {},
   "outputs": [],
   "source": [
    "str1 = \"FACE\""
   ]
  },
  {
   "cell_type": "code",
   "execution_count": 68,
   "id": "ab78579b-cdf4-4865-a2fe-d67b7165fed9",
   "metadata": {},
   "outputs": [
    {
     "data": {
      "text/plain": [
       "'FACE'"
      ]
     },
     "execution_count": 68,
     "metadata": {},
     "output_type": "execute_result"
    }
   ],
   "source": [
    "str1"
   ]
  },
  {
   "cell_type": "code",
   "execution_count": 70,
   "id": "8f857344-29e5-49d6-b604-0f0f327e420a",
   "metadata": {},
   "outputs": [
    {
     "data": {
      "text/plain": [
       "'F'"
      ]
     },
     "execution_count": 70,
     "metadata": {},
     "output_type": "execute_result"
    }
   ],
   "source": [
    "str1[0]"
   ]
  },
  {
   "cell_type": "code",
   "execution_count": 72,
   "id": "fd4fd345-e2cc-4436-ad28-06d88531172c",
   "metadata": {},
   "outputs": [
    {
     "data": {
      "text/plain": [
       "'FA'"
      ]
     },
     "execution_count": 72,
     "metadata": {},
     "output_type": "execute_result"
    }
   ],
   "source": [
    "str1[0:2]"
   ]
  },
  {
   "cell_type": "code",
   "execution_count": 76,
   "id": "f823a482-afee-4ea0-a60e-3ddf8d67d28d",
   "metadata": {},
   "outputs": [
    {
     "data": {
      "text/plain": [
       "'FC'"
      ]
     },
     "execution_count": 76,
     "metadata": {},
     "output_type": "execute_result"
    }
   ],
   "source": [
    "str1[0:3:2]"
   ]
  },
  {
   "cell_type": "code",
   "execution_count": 77,
   "id": "602ea216-9894-442b-bc0e-24719d282c41",
   "metadata": {},
   "outputs": [
    {
     "data": {
      "text/plain": [
       "'F'"
      ]
     },
     "execution_count": 77,
     "metadata": {},
     "output_type": "execute_result"
    }
   ],
   "source": [
    "str1[0:1:1]"
   ]
  },
  {
   "cell_type": "code",
   "execution_count": 78,
   "id": "329825ad-068e-437d-bc26-627b55501a06",
   "metadata": {},
   "outputs": [
    {
     "data": {
      "text/plain": [
       "'FACE'"
      ]
     },
     "execution_count": 78,
     "metadata": {},
     "output_type": "execute_result"
    }
   ],
   "source": [
    "str1[0:4:1]"
   ]
  },
  {
   "cell_type": "code",
   "execution_count": 79,
   "id": "ad54af14-f094-4f24-b4e4-0a8b91cdeef7",
   "metadata": {},
   "outputs": [
    {
     "name": "stdout",
     "output_type": "stream",
     "text": [
      "Hi,  I am MAYUR POTE, I registerd for Code unatti 3.0 \n"
     ]
    }
   ],
   "source": [
    "program = \"Code unnati 3.0\"\n",
    "print(f\"Hi,  I am {naya_name}, I registerd for {program} \")"
   ]
  },
  {
   "cell_type": "code",
   "execution_count": 80,
   "id": "befc9fe4-cce5-4980-a268-ee5351256200",
   "metadata": {},
   "outputs": [
    {
     "name": "stdout",
     "output_type": "stream",
     "text": [
      "I am MAYUR POTE\n"
     ]
    }
   ],
   "source": [
    "print(f\"I am {naya_name}\")"
   ]
  },
  {
   "cell_type": "code",
   "execution_count": 81,
   "id": "4989160e-04b7-4603-8fe7-cabd0de948b4",
   "metadata": {},
   "outputs": [],
   "source": [
    "list=[1,2,3,4]"
   ]
  },
  {
   "cell_type": "code",
   "execution_count": 82,
   "id": "8158eec8-4af5-43cb-aaa4-49b713b24489",
   "metadata": {},
   "outputs": [
    {
     "data": {
      "text/plain": [
       "[1, 2, 3, 4]"
      ]
     },
     "execution_count": 82,
     "metadata": {},
     "output_type": "execute_result"
    }
   ],
   "source": [
    "list"
   ]
  },
  {
   "cell_type": "code",
   "execution_count": 83,
   "id": "c9d95aef-12af-4613-a2ea-b8c775bb1a77",
   "metadata": {},
   "outputs": [],
   "source": [
    "fruits=['mango','apple','banana']"
   ]
  },
  {
   "cell_type": "code",
   "execution_count": 84,
   "id": "6145ff70-ebfb-41f3-a254-de809143383d",
   "metadata": {},
   "outputs": [
    {
     "data": {
      "text/plain": [
       "['mango', 'apple', 'banana']"
      ]
     },
     "execution_count": 84,
     "metadata": {},
     "output_type": "execute_result"
    }
   ],
   "source": [
    "fruits"
   ]
  },
  {
   "cell_type": "code",
   "execution_count": 85,
   "id": "6d95ae4d-29be-4250-ab67-1ab3e0e2b530",
   "metadata": {},
   "outputs": [],
   "source": [
    "fruits.append(\"Mosambi\")"
   ]
  },
  {
   "cell_type": "code",
   "execution_count": 86,
   "id": "97375f89-f54f-4abb-a7c9-36b9d6dfc481",
   "metadata": {},
   "outputs": [
    {
     "data": {
      "text/plain": [
       "['mango', 'apple', 'banana', 'Mosambi']"
      ]
     },
     "execution_count": 86,
     "metadata": {},
     "output_type": "execute_result"
    }
   ],
   "source": [
    "fruits"
   ]
  },
  {
   "cell_type": "code",
   "execution_count": 87,
   "id": "9ccef4ef-5b23-4ef6-8eaf-721ca385f6c8",
   "metadata": {},
   "outputs": [],
   "source": [
    "fav = [\"cheri\",\"kivi\",\"grapes\",]"
   ]
  },
  {
   "cell_type": "code",
   "execution_count": 88,
   "id": "e2de0afb-99f2-4c33-bb6d-03d3526108b3",
   "metadata": {},
   "outputs": [
    {
     "data": {
      "text/plain": [
       "['cheri', 'kivi', 'grapes']"
      ]
     },
     "execution_count": 88,
     "metadata": {},
     "output_type": "execute_result"
    }
   ],
   "source": [
    "fav"
   ]
  },
  {
   "cell_type": "code",
   "execution_count": 91,
   "id": "33a9814e-5715-441e-bd66-e68cb5127094",
   "metadata": {},
   "outputs": [],
   "source": [
    "fruits.extend(fav)\n"
   ]
  },
  {
   "cell_type": "code",
   "execution_count": 92,
   "id": "46663a73-969e-4f9b-97fa-6f82fa5a2812",
   "metadata": {},
   "outputs": [
    {
     "data": {
      "text/plain": [
       "['mango',\n",
       " 'apple',\n",
       " 'banana',\n",
       " 'Mosambi',\n",
       " 'cheri',\n",
       " 'kivi',\n",
       " 'grapes',\n",
       " 'cheri',\n",
       " 'kivi',\n",
       " 'grapes',\n",
       " 'cheri',\n",
       " 'kivi',\n",
       " 'grapes']"
      ]
     },
     "execution_count": 92,
     "metadata": {},
     "output_type": "execute_result"
    }
   ],
   "source": [
    "fruits"
   ]
  },
  {
   "cell_type": "code",
   "execution_count": 102,
   "id": "4a914fd4-9226-4215-bfac-884bd465dea4",
   "metadata": {},
   "outputs": [
    {
     "data": {
      "text/plain": [
       "'Mosambi'"
      ]
     },
     "execution_count": 102,
     "metadata": {},
     "output_type": "execute_result"
    }
   ],
   "source": [
    "fruits.pop()"
   ]
  },
  {
   "cell_type": "code",
   "execution_count": 104,
   "id": "255cbb9b-5c11-413b-900b-de1c20cb8534",
   "metadata": {},
   "outputs": [],
   "source": [
    "fruits.remove(\"mango\")"
   ]
  },
  {
   "cell_type": "code",
   "execution_count": 105,
   "id": "b5ac6ef7-b3bf-4cea-bc6f-edb5bf2b7ee6",
   "metadata": {},
   "outputs": [
    {
     "data": {
      "text/plain": [
       "['apple', 'banana']"
      ]
     },
     "execution_count": 105,
     "metadata": {},
     "output_type": "execute_result"
    }
   ],
   "source": [
    "fruits"
   ]
  },
  {
   "cell_type": "code",
   "execution_count": 106,
   "id": "7414b4bc-4cbb-4f5a-bb05-6958c57171f9",
   "metadata": {},
   "outputs": [],
   "source": [
    "fruits.insert(1,\"orange\")"
   ]
  },
  {
   "cell_type": "code",
   "execution_count": 107,
   "id": "e5fbcf4b-801c-4d8d-b066-4851250ecac6",
   "metadata": {},
   "outputs": [
    {
     "data": {
      "text/plain": [
       "['apple', 'orange', 'banana']"
      ]
     },
     "execution_count": 107,
     "metadata": {},
     "output_type": "execute_result"
    }
   ],
   "source": [
    "fruits"
   ]
  },
  {
   "cell_type": "code",
   "execution_count": 110,
   "id": "63aecc87-6fec-417f-9b75-3bfb1e5df5d8",
   "metadata": {},
   "outputs": [],
   "source": [
    "fruits.sort(reverse=True)"
   ]
  },
  {
   "cell_type": "code",
   "execution_count": 111,
   "id": "1e46dcf8-5043-447b-98b6-2f8372a5b654",
   "metadata": {},
   "outputs": [
    {
     "data": {
      "text/plain": [
       "['orange', 'banana', 'apple']"
      ]
     },
     "execution_count": 111,
     "metadata": {},
     "output_type": "execute_result"
    }
   ],
   "source": [
    "fruits"
   ]
  },
  {
   "cell_type": "markdown",
   "id": "87c0e0a8-690b-4c1f-903a-d0d231d92c1a",
   "metadata": {},
   "source": [
    "# Tuple"
   ]
  },
  {
   "cell_type": "code",
   "execution_count": 112,
   "id": "df675413-a9f2-4cb3-9536-fd3294a44d64",
   "metadata": {},
   "outputs": [],
   "source": [
    "sdp = (\"KJ\",\"Kondwa\",150,1)"
   ]
  },
  {
   "cell_type": "code",
   "execution_count": 113,
   "id": "473622e5-a10e-4cf3-ad82-4913ab799ca0",
   "metadata": {},
   "outputs": [
    {
     "data": {
      "text/plain": [
       "('KJ', 'Kondwa', 150, 1)"
      ]
     },
     "execution_count": 113,
     "metadata": {},
     "output_type": "execute_result"
    }
   ],
   "source": [
    "sdp"
   ]
  },
  {
   "cell_type": "code",
   "execution_count": 114,
   "id": "ceaaab81-4570-4d5a-8fef-f9b1c1a55fc3",
   "metadata": {},
   "outputs": [
    {
     "data": {
      "text/plain": [
       "tuple"
      ]
     },
     "execution_count": 114,
     "metadata": {},
     "output_type": "execute_result"
    }
   ],
   "source": [
    "type(sdp)"
   ]
  },
  {
   "cell_type": "code",
   "execution_count": 115,
   "id": "3c659636-7eb6-4391-afb4-0f40722f40e9",
   "metadata": {},
   "outputs": [
    {
     "data": {
      "text/plain": [
       "'Kondwa'"
      ]
     },
     "execution_count": 115,
     "metadata": {},
     "output_type": "execute_result"
    }
   ],
   "source": [
    "sdp[1]"
   ]
  },
  {
   "cell_type": "code",
   "execution_count": 116,
   "id": "c5875e54-8985-4af7-8fa4-9dfdfb4c6d3e",
   "metadata": {},
   "outputs": [
    {
     "data": {
      "text/plain": [
       "150"
      ]
     },
     "execution_count": 116,
     "metadata": {},
     "output_type": "execute_result"
    }
   ],
   "source": [
    "sdp[2]"
   ]
  },
  {
   "cell_type": "markdown",
   "id": "1be79a61-bbe2-43ca-a413-68b16d97ec06",
   "metadata": {},
   "source": [
    "# dictionary"
   ]
  },
  {
   "cell_type": "code",
   "execution_count": 121,
   "id": "a429b3cc-1f25-44df-a46d-fd42fb09582a",
   "metadata": {},
   "outputs": [],
   "source": [
    "cars = {\n",
    "    \"Sedan\":'honda city',\n",
    "    \"Hatchback\":'swift',\n",
    "    \"long\":'contesa'\n",
    "}"
   ]
  },
  {
   "cell_type": "raw",
   "id": "1d94f842-0bad-4bcf-b631-f83b8e07de5e",
   "metadata": {},
   "source": []
  },
  {
   "cell_type": "code",
   "execution_count": 122,
   "id": "8f03e9c4-5263-407b-a5ec-bb8d1b52ec05",
   "metadata": {},
   "outputs": [
    {
     "data": {
      "text/plain": [
       "{'Sedan': 'honda city', 'Hatchback': 'swift', 'long': 'contesa'}"
      ]
     },
     "execution_count": 122,
     "metadata": {},
     "output_type": "execute_result"
    }
   ],
   "source": [
    "cars"
   ]
  },
  {
   "cell_type": "raw",
   "id": "04989312-ad8a-4cd6-bb72-1c1dcc992860",
   "metadata": {},
   "source": []
  },
  {
   "cell_type": "code",
   "execution_count": 123,
   "id": "4843c7be-5649-4b6d-9157-dda5d5c303e1",
   "metadata": {},
   "outputs": [
    {
     "data": {
      "text/plain": [
       "dict_keys(['Sedan', 'Hatchback', 'long'])"
      ]
     },
     "execution_count": 123,
     "metadata": {},
     "output_type": "execute_result"
    }
   ],
   "source": [
    "cars.keys()"
   ]
  },
  {
   "cell_type": "code",
   "execution_count": 124,
   "id": "ef858624-69c0-422d-acbc-d0e443290375",
   "metadata": {},
   "outputs": [
    {
     "data": {
      "text/plain": [
       "dict_values(['honda city', 'swift', 'contesa'])"
      ]
     },
     "execution_count": 124,
     "metadata": {},
     "output_type": "execute_result"
    }
   ],
   "source": [
    "cars.values()"
   ]
  },
  {
   "cell_type": "code",
   "execution_count": 125,
   "id": "bcbaae17-f667-4a86-baeb-fb59cd05b97d",
   "metadata": {},
   "outputs": [
    {
     "data": {
      "text/plain": [
       "dict_items([('Sedan', 'honda city'), ('Hatchback', 'swift'), ('long', 'contesa')])"
      ]
     },
     "execution_count": 125,
     "metadata": {},
     "output_type": "execute_result"
    }
   ],
   "source": [
    "cars.items()"
   ]
  },
  {
   "cell_type": "code",
   "execution_count": 128,
   "id": "5886f79d-14b2-4c9e-b487-ba03e3284851",
   "metadata": {},
   "outputs": [],
   "source": [
    "cars[\"short\"] = \"nano\""
   ]
  },
  {
   "cell_type": "code",
   "execution_count": 129,
   "id": "820caab0-2859-4dae-ac12-9cf00cfc68d8",
   "metadata": {},
   "outputs": [
    {
     "data": {
      "text/plain": [
       "{'Sedan': 'honda city',\n",
       " 'Hatchback': 'swift',\n",
       " 'long': 'contesa',\n",
       " 'short': 'nano'}"
      ]
     },
     "execution_count": 129,
     "metadata": {},
     "output_type": "execute_result"
    }
   ],
   "source": [
    "cars"
   ]
  },
  {
   "cell_type": "code",
   "execution_count": 130,
   "id": "f264dcb9-b052-44ab-9183-ccf433f8f24e",
   "metadata": {},
   "outputs": [],
   "source": [
    "cars.update({\"long\":\"honda amaze\"})"
   ]
  },
  {
   "cell_type": "code",
   "execution_count": 131,
   "id": "264b761a-7cb7-48d6-b985-e4cfcf7657b1",
   "metadata": {},
   "outputs": [
    {
     "data": {
      "text/plain": [
       "{'Sedan': 'honda city',\n",
       " 'Hatchback': 'swift',\n",
       " 'long': 'honda amaze',\n",
       " 'short': 'nano'}"
      ]
     },
     "execution_count": 131,
     "metadata": {},
     "output_type": "execute_result"
    }
   ],
   "source": [
    "cars"
   ]
  },
  {
   "cell_type": "markdown",
   "id": "a28e6fd9-b06b-49fd-be5a-28a4b54229ca",
   "metadata": {},
   "source": [
    "# SETS"
   ]
  },
  {
   "cell_type": "code",
   "execution_count": 139,
   "id": "079af99d-fef7-4859-b90e-bd3f74429eab",
   "metadata": {},
   "outputs": [],
   "source": [
    "sub1 = {'science','Maths','bio','Marathi','Marathi'}"
   ]
  },
  {
   "cell_type": "code",
   "execution_count": 140,
   "id": "cc64d85e-9846-4f24-8200-b2382aca7cc4",
   "metadata": {},
   "outputs": [
    {
     "data": {
      "text/plain": [
       "{'Marathi', 'Maths', 'bio', 'science'}"
      ]
     },
     "execution_count": 140,
     "metadata": {},
     "output_type": "execute_result"
    }
   ],
   "source": [
    "sub1"
   ]
  },
  {
   "cell_type": "code",
   "execution_count": 152,
   "id": "15ff5753-608f-4983-a1fe-6f61fb86be40",
   "metadata": {},
   "outputs": [],
   "source": [
    "sub2 = {'social','history','english','Marathi'}"
   ]
  },
  {
   "cell_type": "code",
   "execution_count": 153,
   "id": "6d44c744-95d2-4fd6-9c80-fea3d558f535",
   "metadata": {},
   "outputs": [
    {
     "data": {
      "text/plain": [
       "{'Marathi', 'english', 'history', 'social'}"
      ]
     },
     "execution_count": 153,
     "metadata": {},
     "output_type": "execute_result"
    }
   ],
   "source": [
    "sub2"
   ]
  },
  {
   "cell_type": "code",
   "execution_count": 154,
   "id": "7eb204b6-66bf-49e2-9838-4ac4642a4146",
   "metadata": {},
   "outputs": [
    {
     "data": {
      "text/plain": [
       "{'Marathi', 'Maths', 'bio', 'english', 'history', 'science', 'social'}"
      ]
     },
     "execution_count": 154,
     "metadata": {},
     "output_type": "execute_result"
    }
   ],
   "source": [
    "sub1.union(sub2)"
   ]
  },
  {
   "cell_type": "code",
   "execution_count": 155,
   "id": "a6459a3a-c684-4a69-948f-18008c73d75f",
   "metadata": {},
   "outputs": [
    {
     "data": {
      "text/plain": [
       "{'Marathi'}"
      ]
     },
     "execution_count": 155,
     "metadata": {},
     "output_type": "execute_result"
    }
   ],
   "source": [
    "sub1.intersection(sub2)"
   ]
  },
  {
   "cell_type": "markdown",
   "id": "00a331a2-5323-4fb6-9223-aae4957d6811",
   "metadata": {},
   "source": [
    "# functions "
   ]
  },
  {
   "cell_type": "code",
   "execution_count": 2,
   "id": "291fe94c-58a8-4abb-a742-445f2c2b3a1d",
   "metadata": {},
   "outputs": [],
   "source": [
    "num = [1,2,3,5,8,9,28]"
   ]
  },
  {
   "cell_type": "code",
   "execution_count": 3,
   "id": "3b6105d5-0eff-437d-894d-fc8172fe9e51",
   "metadata": {},
   "outputs": [
    {
     "data": {
      "text/plain": [
       "[1, 2, 3, 5, 8, 9, 28]"
      ]
     },
     "execution_count": 3,
     "metadata": {},
     "output_type": "execute_result"
    }
   ],
   "source": [
    "num"
   ]
  },
  {
   "cell_type": "code",
   "execution_count": 4,
   "id": "a6108217-5b50-4730-b056-581646b6cd23",
   "metadata": {},
   "outputs": [
    {
     "data": {
      "text/plain": [
       "7"
      ]
     },
     "execution_count": 4,
     "metadata": {},
     "output_type": "execute_result"
    }
   ],
   "source": [
    "len(num)"
   ]
  },
  {
   "cell_type": "code",
   "execution_count": 5,
   "id": "ccc0694c-a28b-45c4-be96-791e817891d5",
   "metadata": {},
   "outputs": [
    {
     "data": {
      "text/plain": [
       "56"
      ]
     },
     "execution_count": 5,
     "metadata": {},
     "output_type": "execute_result"
    }
   ],
   "source": [
    "sum(num)"
   ]
  },
  {
   "cell_type": "code",
   "execution_count": 7,
   "id": "62926bf9-c344-4752-a813-243787dda312",
   "metadata": {},
   "outputs": [
    {
     "data": {
      "text/plain": [
       "28"
      ]
     },
     "execution_count": 7,
     "metadata": {},
     "output_type": "execute_result"
    }
   ],
   "source": [
    "max(num)"
   ]
  },
  {
   "cell_type": "code",
   "execution_count": 8,
   "id": "055799d5-dc1b-4ed4-ab42-a90511c31bd8",
   "metadata": {},
   "outputs": [
    {
     "data": {
      "text/plain": [
       "1"
      ]
     },
     "execution_count": 8,
     "metadata": {},
     "output_type": "execute_result"
    }
   ],
   "source": [
    "min(num)"
   ]
  },
  {
   "cell_type": "code",
   "execution_count": 9,
   "id": "2c57b494-b8c6-4b85-8a38-94701b3aabb7",
   "metadata": {},
   "outputs": [
    {
     "data": {
      "text/plain": [
       "['__add__',\n",
       " '__class__',\n",
       " '__class_getitem__',\n",
       " '__contains__',\n",
       " '__delattr__',\n",
       " '__delitem__',\n",
       " '__dir__',\n",
       " '__doc__',\n",
       " '__eq__',\n",
       " '__format__',\n",
       " '__ge__',\n",
       " '__getattribute__',\n",
       " '__getitem__',\n",
       " '__getstate__',\n",
       " '__gt__',\n",
       " '__hash__',\n",
       " '__iadd__',\n",
       " '__imul__',\n",
       " '__init__',\n",
       " '__init_subclass__',\n",
       " '__iter__',\n",
       " '__le__',\n",
       " '__len__',\n",
       " '__lt__',\n",
       " '__mul__',\n",
       " '__ne__',\n",
       " '__new__',\n",
       " '__reduce__',\n",
       " '__reduce_ex__',\n",
       " '__repr__',\n",
       " '__reversed__',\n",
       " '__rmul__',\n",
       " '__setattr__',\n",
       " '__setitem__',\n",
       " '__sizeof__',\n",
       " '__str__',\n",
       " '__subclasshook__',\n",
       " 'append',\n",
       " 'clear',\n",
       " 'copy',\n",
       " 'count',\n",
       " 'extend',\n",
       " 'index',\n",
       " 'insert',\n",
       " 'pop',\n",
       " 'remove',\n",
       " 'reverse',\n",
       " 'sort']"
      ]
     },
     "execution_count": 9,
     "metadata": {},
     "output_type": "execute_result"
    }
   ],
   "source": [
    "dir(list)"
   ]
  },
  {
   "cell_type": "code",
   "execution_count": 14,
   "id": "b3e1e7a3-3835-4c5b-bf25-07d3b1b1d17b",
   "metadata": {},
   "outputs": [
    {
     "data": {
      "text/plain": [
       "30"
      ]
     },
     "execution_count": 14,
     "metadata": {},
     "output_type": "execute_result"
    }
   ],
   "source": [
    "add(10,20)"
   ]
  },
  {
   "cell_type": "code",
   "execution_count": 16,
   "id": "eba0f444-7888-4206-b2dc-00f5b3176b62",
   "metadata": {},
   "outputs": [],
   "source": [
    "def sub1(a, b):\n",
    "    res=a-b\n",
    "    return res"
   ]
  },
  {
   "cell_type": "code",
   "execution_count": 18,
   "id": "ab0ba222-3427-4449-9317-a76c5b403c11",
   "metadata": {},
   "outputs": [
    {
     "data": {
      "text/plain": [
       "7"
      ]
     },
     "execution_count": 18,
     "metadata": {},
     "output_type": "execute_result"
    }
   ],
   "source": [
    "sub1(10,3)"
   ]
  },
  {
   "cell_type": "code",
   "execution_count": 24,
   "id": "b56e45c2-618b-4f4f-a647-57d7d8bbcb00",
   "metadata": {},
   "outputs": [],
   "source": [
    "def multi(q,b):\n",
    "    res = q*b\n",
    "    return res"
   ]
  },
  {
   "cell_type": "code",
   "execution_count": 25,
   "id": "7d06b185-7c1a-48e4-9ac7-d32ac952d161",
   "metadata": {},
   "outputs": [
    {
     "data": {
      "text/plain": [
       "152"
      ]
     },
     "execution_count": 25,
     "metadata": {},
     "output_type": "execute_result"
    }
   ],
   "source": [
    "multi(38,4)"
   ]
  },
  {
   "cell_type": "code",
   "execution_count": 36,
   "id": "8b46e67c-94c3-4bfa-a796-ba6d06eb61c5",
   "metadata": {},
   "outputs": [
    {
     "name": "stdin",
     "output_type": "stream",
     "text": [
      "enter the number 0\n"
     ]
    },
    {
     "name": "stdout",
     "output_type": "stream",
     "text": [
      "a is zero\n"
     ]
    }
   ],
   "source": [
    "#a = 10\n",
    "a= int(input(\"enter the number\"))\n",
    "if(a>0):\n",
    "    print(\"a  is positive\")\n",
    "elif(a==0):\n",
    "    print(\"a is zero\")\n",
    "else:\n",
    "    print(\"a is negative\")"
   ]
  },
  {
   "cell_type": "code",
   "execution_count": 43,
   "id": "661115a7-b659-47dd-bf2b-fa490a6bffa0",
   "metadata": {},
   "outputs": [],
   "source": [
    "def num(a):\n",
    "    if(a>=0):\n",
    "        print(\"positive\")\n",
    "    else:\n",
    "        print(\"negative\")"
   ]
  },
  {
   "cell_type": "code",
   "execution_count": 44,
   "id": "dd74f591-df05-48d5-a726-1f775b44d0ab",
   "metadata": {},
   "outputs": [
    {
     "name": "stdout",
     "output_type": "stream",
     "text": [
      "positive\n"
     ]
    }
   ],
   "source": [
    "num(0)"
   ]
  },
  {
   "cell_type": "markdown",
   "id": "12ce97c3-768d-4504-b55e-a98f49105188",
   "metadata": {},
   "source": []
  },
  {
   "cell_type": "code",
   "execution_count": 53,
   "id": "8b122e50-f04e-42d6-a779-6a12ffea2037",
   "metadata": {},
   "outputs": [
    {
     "name": "stdout",
     "output_type": "stream",
     "text": [
      "2\n",
      "3\n",
      "4\n",
      "5\n",
      "6\n",
      "7\n",
      "8\n",
      "9\n",
      "10\n"
     ]
    }
   ],
   "source": [
    "for i  in range(2,11):\n",
    "    print(i)"
   ]
  },
  {
   "cell_type": "code",
   "execution_count": 51,
   "id": "c2699800-9c22-4990-8d5c-3612d0abf114",
   "metadata": {},
   "outputs": [
    {
     "name": "stdout",
     "output_type": "stream",
     "text": [
      "0\n",
      "1\n",
      "2\n",
      "3\n",
      "4\n",
      "5\n"
     ]
    }
   ],
   "source": [
    "counter = 0\n",
    "while counter < 6:\n",
    "    print(counter)\n",
    "    counter +=1 "
   ]
  },
  {
   "cell_type": "code",
   "execution_count": 59,
   "id": "11f9bce6-f335-40da-aeea-43571096fef7",
   "metadata": {},
   "outputs": [
    {
     "name": "stdout",
     "output_type": "stream",
     "text": [
      "1\n",
      "3\n",
      "5\n",
      "7\n",
      "9\n",
      "11\n",
      "13\n",
      "15\n",
      "17\n",
      "19\n"
     ]
    }
   ],
   "source": [
    "odd =1\n",
    "while odd<20:\n",
    "    print(odd)\n",
    "    odd += 2"
   ]
  },
  {
   "cell_type": "code",
   "execution_count": 63,
   "id": "6fcd55e3-0bca-463a-9f36-4d486bec5b15",
   "metadata": {},
   "outputs": [
    {
     "name": "stdout",
     "output_type": "stream",
     "text": [
      "1\n",
      "3\n",
      "5\n",
      "7\n",
      "9\n"
     ]
    }
   ],
   "source": [
    "odd = []\n",
    "for num in range(1,11):\n",
    "    if(num%2==1):\n",
    "        odd.append(num)\n",
    "        print(num)"
   ]
  },
  {
   "cell_type": "code",
   "execution_count": 65,
   "id": "e8ac738d-1e88-4dd2-9238-9aba62fb0986",
   "metadata": {},
   "outputs": [
    {
     "name": "stdout",
     "output_type": "stream",
     "text": [
      "2\n",
      "4\n",
      "6\n",
      "8\n",
      "10\n",
      "12\n",
      "14\n",
      "16\n",
      "18\n"
     ]
    }
   ],
   "source": [
    "even =[]\n",
    "for num in range(1,20):\n",
    "    if(num%2==0):\n",
    "        even.append(num)\n",
    "        print(num)"
   ]
  },
  {
   "cell_type": "code",
   "execution_count": 64,
   "id": "38f7cf08-945b-4b27-a7bb-8f96884083e9",
   "metadata": {},
   "outputs": [
    {
     "data": {
      "text/plain": [
       "[1, 3, 5, 7, 9]"
      ]
     },
     "execution_count": 64,
     "metadata": {},
     "output_type": "execute_result"
    }
   ],
   "source": [
    "odd"
   ]
  },
  {
   "cell_type": "code",
   "execution_count": 66,
   "id": "f8b46588-4d29-41aa-a593-877c30a77b39",
   "metadata": {},
   "outputs": [
    {
     "data": {
      "text/plain": [
       "[2, 4, 6, 8, 10, 12, 14, 16, 18]"
      ]
     },
     "execution_count": 66,
     "metadata": {},
     "output_type": "execute_result"
    }
   ],
   "source": [
    "even"
   ]
  },
  {
   "cell_type": "code",
   "execution_count": 70,
   "id": "9610849e-f048-4b94-9a93-4694a016a808",
   "metadata": {},
   "outputs": [
    {
     "data": {
      "text/plain": [
       "[1, 3, 5, 7, 9]"
      ]
     },
     "execution_count": 70,
     "metadata": {},
     "output_type": "execute_result"
    }
   ],
   "source": [
    "[num for num in range(1,11) if num%2==1 ]"
   ]
  },
  {
   "cell_type": "code",
   "execution_count": 71,
   "id": "5aed96d0-04e5-4e4b-81e2-60df612b627e",
   "metadata": {},
   "outputs": [
    {
     "name": "stdout",
     "output_type": "stream",
     "text": [
      "1\n",
      "2\n",
      "3\n",
      "4\n",
      "5\n"
     ]
    }
   ],
   "source": [
    "for i in range(1, 11):\n",
    "    print(i)\n",
    "    if(i==5):\n",
    "        break"
   ]
  },
  {
   "cell_type": "code",
   "execution_count": 80,
   "id": "7661b52e-9b0e-4185-9f43-482d555cd2f0",
   "metadata": {},
   "outputs": [
    {
     "name": "stdout",
     "output_type": "stream",
     "text": [
      "1\n",
      "2\n",
      "3\n",
      "4\n",
      "6\n",
      "7\n",
      "8\n",
      "9\n",
      "10\n"
     ]
    }
   ],
   "source": [
    "for i in range(1, 11):\n",
    "       \n",
    " \n",
    "        if i == 5:\n",
    "          continue\n",
    "        else:\n",
    "            print(i)\n",
    "   "
   ]
  },
  {
   "cell_type": "code",
   "execution_count": null,
   "id": "1669d5b4-766e-4af6-bf60-731001be1d1f",
   "metadata": {},
   "outputs": [],
   "source": [
    "item = []\n",
    "price = []\n",
    "quantity= []\n",
    "def bill():\n",
    "    for "
   ]
  },
  {
   "cell_type": "code",
   "execution_count": 89,
   "id": "36c90a49-7520-4221-b3b7-17a1978204f8",
   "metadata": {},
   "outputs": [
    {
     "name": "stdout",
     "output_type": "stream",
     "text": [
      "55\n"
     ]
    }
   ],
   "source": [
    "sum1 = 0\n",
    "for number in range(1,11):\n",
    "    sum1 += number\n",
    "print(sum1)\n",
    "    \n",
    "    "
   ]
  },
  {
   "cell_type": "code",
   "execution_count": 109,
   "id": "64e30eb0-0c0f-436a-8dfe-5f166df91676",
   "metadata": {},
   "outputs": [],
   "source": [
    "def bill(items, prices):\n",
    "    if len(items) != len(prices):\n",
    "        return \"error: The numbers of items and prices should same\"\n",
    "    total_bill = 0\n",
    "    for price in prices:\n",
    "        total_bill += price\n",
    "    return total_bill    "
   ]
  },
  {
   "cell_type": "code",
   "execution_count": 102,
   "id": "e50abcfb-6f8c-4870-95a8-533f53947d76",
   "metadata": {},
   "outputs": [
    {
     "ename": "UnboundLocalError",
     "evalue": "cannot access local variable 'bill' where it is not associated with a value",
     "output_type": "error",
     "traceback": [
      "\u001b[1;31m---------------------------------------------------------------------------\u001b[0m",
      "\u001b[1;31mUnboundLocalError\u001b[0m                         Traceback (most recent call last)",
      "Cell \u001b[1;32mIn[102], line 1\u001b[0m\n\u001b[1;32m----> 1\u001b[0m bill(items,prices)\n",
      "Cell \u001b[1;32mIn[101], line 6\u001b[0m, in \u001b[0;36mbill\u001b[1;34m(items, prices)\u001b[0m\n\u001b[0;32m      4\u001b[0m total_bill \u001b[38;5;241m=\u001b[39m \u001b[38;5;241m0\u001b[39m\n\u001b[0;32m      5\u001b[0m \u001b[38;5;28;01mfor\u001b[39;00m price \u001b[38;5;129;01min\u001b[39;00m prices:\n\u001b[1;32m----> 6\u001b[0m     bill \u001b[38;5;241m+\u001b[39m\u001b[38;5;241m=\u001b[39m price\n\u001b[0;32m      7\u001b[0m \u001b[38;5;28;01mreturn\u001b[39;00m total_bill\n",
      "\u001b[1;31mUnboundLocalError\u001b[0m: cannot access local variable 'bill' where it is not associated with a value"
     ]
    }
   ],
   "source": [
    "bill(items,prices)"
   ]
  },
  {
   "cell_type": "code",
   "execution_count": 110,
   "id": "88cd9bd4-23b4-4360-8947-571eb1f058d9",
   "metadata": {},
   "outputs": [],
   "source": [
    "items1 = [\"Apple\",\"Banana\",\"kivi\"]"
   ]
  },
  {
   "cell_type": "code",
   "execution_count": 111,
   "id": "6d483d1f-cc9a-4089-b7a5-cff92330053f",
   "metadata": {},
   "outputs": [],
   "source": [
    "prices1 =[269,48,100]"
   ]
  },
  {
   "cell_type": "code",
   "execution_count": 112,
   "id": "ad545a9a-7e15-4a1a-9808-dd5d3e69cdc6",
   "metadata": {},
   "outputs": [
    {
     "data": {
      "text/plain": [
       "417"
      ]
     },
     "execution_count": 112,
     "metadata": {},
     "output_type": "execute_result"
    }
   ],
   "source": [
    "bill(items1,prices1)"
   ]
  },
  {
   "cell_type": "code",
   "execution_count": null,
   "id": "2fdb6306-0d40-44c0-8a95-6e85f6a46a44",
   "metadata": {},
   "outputs": [],
   "source": []
  }
 ],
 "metadata": {
  "kernelspec": {
   "display_name": "Python 3 (ipykernel)",
   "language": "python",
   "name": "python3"
  },
  "language_info": {
   "codemirror_mode": {
    "name": "ipython",
    "version": 3
   },
   "file_extension": ".py",
   "mimetype": "text/x-python",
   "name": "python",
   "nbconvert_exporter": "python",
   "pygments_lexer": "ipython3",
   "version": "3.12.7"
  }
 },
 "nbformat": 4,
 "nbformat_minor": 5
}
